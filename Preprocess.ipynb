{
 "metadata": {
  "language_info": {
   "codemirror_mode": {
    "name": "ipython",
    "version": 3
   },
   "file_extension": ".py",
   "mimetype": "text/x-python",
   "name": "python",
   "nbconvert_exporter": "python",
   "pygments_lexer": "ipython3",
   "version": "3.7.9-final"
  },
  "orig_nbformat": 2,
  "kernelspec": {
   "name": "python3",
   "display_name": "Python 3",
   "language": "python"
  }
 },
 "nbformat": 4,
 "nbformat_minor": 2,
 "cells": [
  {
   "cell_type": "code",
   "execution_count": 1,
   "metadata": {},
   "outputs": [],
   "source": [
    "import numpy as np\n",
    "import pandas as pd\n",
    "import tensorflow as tf\n",
    "import transformers\n",
    "import glob\n",
    "from sklearn.utils import shuffle\n",
    "import spacy\n",
    "from sklearn.model_selection import train_test_split"
   ]
  },
  {
   "cell_type": "code",
   "execution_count": 9,
   "metadata": {},
   "outputs": [],
   "source": [
    "nlp = spacy.load('en_core_web_lg', disable=[\"tagger\", \"parser\", \"ner\"])\n",
    "\n",
    "def preprocess(text, prepr):\n",
    "    doc = nlp(text)\n",
    "    if prepr == \"lemma\":\n",
    "        processed = [term.lemma_.lower() for term in doc if term.is_alpha and not term.is_stop]\n",
    "    elif prepr == \"alpha\":\n",
    "        processed = [term.text.lower() for term in doc if term.is_alpha]\n",
    "    return ' '.join(processed)"
   ]
  },
  {
   "cell_type": "code",
   "execution_count": 3,
   "metadata": {},
   "outputs": [],
   "source": [
    "def read_files(data_dict, files, label, prepr = \"no\"):\n",
    "    for file_name in files:\n",
    "        file_rating = file_name.split('_')\n",
    "\n",
    "        with open(file_name, \"r\", encoding=\"utf8\") as file_open:\n",
    "            data_dict[\"file\"].append(file_name)\n",
    "            data_dict[\"rating\"].append(file_rating[-1].split('.')[0])\n",
    "            if prepr != \"no\":\n",
    "                data_dict[\"text\"].append(preprocess(file_open.read(), prepr))\n",
    "            else:\n",
    "                data_dict[\"text\"].append(file_open.read())\n",
    "            data_dict[\"label\"].append(label)"
   ]
  },
  {
   "cell_type": "code",
   "execution_count": 17,
   "metadata": {},
   "outputs": [
    {
     "output_type": "execute_result",
     "data": {
      "text/plain": [
       "                                file rating  \\\n",
       "13462  aclImdb/train/neg\\10867_1.txt      1   \n",
       "14207  aclImdb/train/neg\\11537_4.txt      4   \n",
       "17419   aclImdb/train/neg\\3178_4.txt      4   \n",
       "7224    aclImdb/train/pos\\5252_9.txt      9   \n",
       "23856   aclImdb/train/neg\\8972_3.txt      3   \n",
       "\n",
       "                                                    text  label  \n",
       "13462  film make thing well act write direct bad leav...      0  \n",
       "14207  follow film progress time expect little consid...      0  \n",
       "17419  movie like know go usual joke concern ghost ev...      0  \n",
       "7224   hear movie suppose funny thing see yes funny m...      1  \n",
       "23856  br main question pose concern film film cole p...      0  "
      ],
      "text/html": "<div>\n<style scoped>\n    .dataframe tbody tr th:only-of-type {\n        vertical-align: middle;\n    }\n\n    .dataframe tbody tr th {\n        vertical-align: top;\n    }\n\n    .dataframe thead th {\n        text-align: right;\n    }\n</style>\n<table border=\"1\" class=\"dataframe\">\n  <thead>\n    <tr style=\"text-align: right;\">\n      <th></th>\n      <th>file</th>\n      <th>rating</th>\n      <th>text</th>\n      <th>label</th>\n    </tr>\n  </thead>\n  <tbody>\n    <tr>\n      <th>13462</th>\n      <td>aclImdb/train/neg\\10867_1.txt</td>\n      <td>1</td>\n      <td>film make thing well act write direct bad leav...</td>\n      <td>0</td>\n    </tr>\n    <tr>\n      <th>14207</th>\n      <td>aclImdb/train/neg\\11537_4.txt</td>\n      <td>4</td>\n      <td>follow film progress time expect little consid...</td>\n      <td>0</td>\n    </tr>\n    <tr>\n      <th>17419</th>\n      <td>aclImdb/train/neg\\3178_4.txt</td>\n      <td>4</td>\n      <td>movie like know go usual joke concern ghost ev...</td>\n      <td>0</td>\n    </tr>\n    <tr>\n      <th>7224</th>\n      <td>aclImdb/train/pos\\5252_9.txt</td>\n      <td>9</td>\n      <td>hear movie suppose funny thing see yes funny m...</td>\n      <td>1</td>\n    </tr>\n    <tr>\n      <th>23856</th>\n      <td>aclImdb/train/neg\\8972_3.txt</td>\n      <td>3</td>\n      <td>br main question pose concern film film cole p...</td>\n      <td>0</td>\n    </tr>\n  </tbody>\n</table>\n</div>"
     },
     "metadata": {},
     "execution_count": 17
    }
   ],
   "source": [
    "# No preprocessing\n",
    "labels = [1, 0]\n",
    "\n",
    "train_dict = {\"file\":[], \"rating\":[], \"text\":[], \"label\":[]} #defaultdict(list)\n",
    "\n",
    "pos_path = \"aclImdb/train/pos\"\n",
    "train_pos = glob.glob(pos_path + '/*.txt')\n",
    "read_files(train_dict, train_pos, labels[0], \"no\")\n",
    "\n",
    "neg_path = \"aclImdb/train/neg\"\n",
    "train_neg = glob.glob(neg_path + '/*.txt')\n",
    "read_files(train_dict, train_neg, labels[1], \"no\")\n",
    "\n",
    "pos_path_te = \"aclImdb/test/pos\"\n",
    "test_pos = glob.glob(pos_path_te + '/*.txt')\n",
    "read_files(train_dict, test_pos, labels[0], \"no\")\n",
    "\n",
    "neg_path_te = \"aclImdb/test/neg\"\n",
    "test_neg = glob.glob(neg_path_te + '/*.txt')\n",
    "read_files(train_dict, test_neg, labels[1], \"no\")\n",
    "\n",
    "train_data = pd.DataFrame(train_dict)\n",
    "train_data = train_data.sample(frac=1)\n",
    "\n",
    "train_data_no, val_data_no = train_test_split(train_data, test_size=0.3, random_state=1)\n",
    "val_data_no, test_data_no = train_test_split(val_data_no, test_size=0.5, random_state=1)\n",
    "\n",
    "train_data_no.to_csv('train_data_no.csv')\n",
    "test_data_no.to_csv('test_data_no.csv')\n",
    "val_data_no.to_csv('val_data_no.csv')\n",
    "\n",
    "train_data.head()"
   ]
  },
  {
   "cell_type": "code",
   "execution_count": 12,
   "metadata": {},
   "outputs": [
    {
     "output_type": "execute_result",
     "data": {
      "text/plain": [
       "                              file rating  \\\n",
       "15        aclImdb/test/neg\\0_2.txt      2   \n",
       "6    aclImdb/train/neg\\10000_4.txt      4   \n",
       "2   aclImdb/train/pos\\10001_10.txt     10   \n",
       "13    aclImdb/test/pos\\10002_8.txt      8   \n",
       "5        aclImdb/train/neg\\0_3.txt      3   \n",
       "\n",
       "                                                 text  label  \n",
       "15  once again costner has dragged out a movie for...      0  \n",
       "6   airport starts as a brand new luxury plane is ...      0  \n",
       "2   brilliant over acting by lesley ann warren bes...      1  \n",
       "13  i saw this film in a sneak preview and it is d...      1  \n",
       "5   story of a man who has unnatural feelings for ...      0  "
      ],
      "text/html": "<div>\n<style scoped>\n    .dataframe tbody tr th:only-of-type {\n        vertical-align: middle;\n    }\n\n    .dataframe tbody tr th {\n        vertical-align: top;\n    }\n\n    .dataframe thead th {\n        text-align: right;\n    }\n</style>\n<table border=\"1\" class=\"dataframe\">\n  <thead>\n    <tr style=\"text-align: right;\">\n      <th></th>\n      <th>file</th>\n      <th>rating</th>\n      <th>text</th>\n      <th>label</th>\n    </tr>\n  </thead>\n  <tbody>\n    <tr>\n      <th>15</th>\n      <td>aclImdb/test/neg\\0_2.txt</td>\n      <td>2</td>\n      <td>once again costner has dragged out a movie for...</td>\n      <td>0</td>\n    </tr>\n    <tr>\n      <th>6</th>\n      <td>aclImdb/train/neg\\10000_4.txt</td>\n      <td>4</td>\n      <td>airport starts as a brand new luxury plane is ...</td>\n      <td>0</td>\n    </tr>\n    <tr>\n      <th>2</th>\n      <td>aclImdb/train/pos\\10001_10.txt</td>\n      <td>10</td>\n      <td>brilliant over acting by lesley ann warren bes...</td>\n      <td>1</td>\n    </tr>\n    <tr>\n      <th>13</th>\n      <td>aclImdb/test/pos\\10002_8.txt</td>\n      <td>8</td>\n      <td>i saw this film in a sneak preview and it is d...</td>\n      <td>1</td>\n    </tr>\n    <tr>\n      <th>5</th>\n      <td>aclImdb/train/neg\\0_3.txt</td>\n      <td>3</td>\n      <td>story of a man who has unnatural feelings for ...</td>\n      <td>0</td>\n    </tr>\n  </tbody>\n</table>\n</div>"
     },
     "metadata": {},
     "execution_count": 12
    }
   ],
   "source": [
    "# Only alphabetical words preprocessing\n",
    "\n",
    "train_dict = {\"file\":[], \"rating\":[], \"text\":[], \"label\":[]} #defaultdict(list)\n",
    "\n",
    "pos_path = \"aclImdb/train/pos\"\n",
    "train_pos = glob.glob(pos_path + '/*.txt')\n",
    "read_files(train_dict, train_pos[:5], labels[0], \"alpha\")\n",
    "\n",
    "neg_path = \"aclImdb/train/neg\"\n",
    "train_neg = glob.glob(neg_path + '/*.txt')\n",
    "read_files(train_dict, train_neg[:5], labels[1], \"alpha\")\n",
    "\n",
    "pos_path_te = \"aclImdb/test/pos\"\n",
    "test_pos = glob.glob(pos_path_te + '/*.txt')\n",
    "read_files(train_dict, test_pos[:5], labels[0], \"alpha\")\n",
    "\n",
    "neg_path_te = \"aclImdb/test/neg\"\n",
    "test_neg = glob.glob(neg_path_te + '/*.txt')\n",
    "read_files(train_dict, test_neg[:5], labels[1], \"alpha\")\n",
    "\n",
    "train_data = pd.DataFrame(train_dict)\n",
    "train_data = train_data.sample(frac=1)\n",
    "\n",
    "train_data_alpha, val_data_alpha = train_test_split(train_data, test_size=0.3, random_state=1)\n",
    "val_data_alpha, test_data_alpha = train_test_split(val_data_alpha, test_size=0.5, random_state=1)\n",
    "\n",
    "train_data_alpha.to_csv('train_data_alpha.csv')\n",
    "test_data_alpha.to_csv('test_data_alpha.csv')\n",
    "val_data_alpha.to_csv('val_data_alpha.csv')\n",
    "\n",
    "train_data.head()"
   ]
  },
  {
   "cell_type": "code",
   "execution_count": null,
   "metadata": {},
   "outputs": [],
   "source": [
    "# Remove stopwords and lemmatize preprocessing\n",
    "\n",
    "train_dict = {\"file\":[], \"rating\":[], \"text\":[], \"label\":[]} #defaultdict(list)\n",
    "\n",
    "pos_path = \"aclImdb/train/pos\"\n",
    "train_pos = glob.glob(pos_path + '/*.txt')\n",
    "read_files(train_dict, train_pos, labels[0], \"lemma\")\n",
    "\n",
    "neg_path = \"aclImdb/train/neg\"\n",
    "train_neg = glob.glob(neg_path + '/*.txt')\n",
    "read_files(train_dict, train_neg, labels[1], \"lemma\")\n",
    "\n",
    "pos_path_te = \"aclImdb/test/pos\"\n",
    "test_pos = glob.glob(pos_path_te + '/*.txt')\n",
    "read_files(train_dict, test_pos, labels[0], \"lemma\")\n",
    "\n",
    "neg_path_te = \"aclImdb/test/neg\"\n",
    "test_neg = glob.glob(neg_path_te + '/*.txt')\n",
    "read_files(train_dict, test_neg, labels[1], \"lemma\")\n",
    "\n",
    "train_data = pd.DataFrame(train_dict)\n",
    "train_data = train_data.sample(frac=1)\n",
    "\n",
    "train_data_lemma, val_data_lemma = train_test_split(train_data, test_size=0.3, random_state=1)\n",
    "val_data_lemma, test_data_lemma = train_test_split(val_data_lemma, test_size=0.5, random_state=1)\n",
    "\n",
    "train_data_lemma.to_csv('train_data_lemma.csv')\n",
    "test_data_lemma.to_csv('test_data_lemma.csv')\n",
    "val_data_lemma.to_csv('val_data_lemma.csv')\n",
    "\n",
    "train_data.head()"
   ]
  },
  {
   "cell_type": "code",
   "execution_count": null,
   "metadata": {},
   "outputs": [],
   "source": []
  }
 ]
}